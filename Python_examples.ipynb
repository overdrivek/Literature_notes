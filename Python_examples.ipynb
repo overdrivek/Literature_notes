{
 "cells": [
  {
   "cell_type": "code",
   "execution_count": 1,
   "metadata": {},
   "outputs": [
    {
     "name": "stdout",
     "output_type": "stream",
     "text": [
      "1\n",
      "2\n",
      "3\n"
     ]
    }
   ],
   "source": [
    "mylist = [1, 2, 3]\n",
    "for i in mylist:\n",
    "   print(i)"
   ]
  },
  {
   "cell_type": "markdown",
   "metadata": {},
   "source": [
    "### Generators"
   ]
  },
  {
   "cell_type": "code",
   "execution_count": 8,
   "metadata": {},
   "outputs": [
    {
     "name": "stdout",
     "output_type": "stream",
     "text": [
      "0\n",
      "1\n",
      "2\n"
     ]
    }
   ],
   "source": [
    "mylist = (x for x in range(3))\n",
    "for i in mylist:\n",
    "   print(i)"
   ]
  },
  {
   "cell_type": "code",
   "execution_count": 16,
   "metadata": {},
   "outputs": [
    {
     "name": "stdout",
     "output_type": "stream",
     "text": [
      "<generator object creategenerator at 0x0000000005038AF0>\n"
     ]
    }
   ],
   "source": [
    "def creategenerator():\n",
    "    mylist = range(3)\n",
    "    for i in mylist:\n",
    "        yield i\n",
    "        \n",
    "mygenerator = creategenerator()\n",
    "print(mygenerator)\n",
    "        "
   ]
  },
  {
   "cell_type": "code",
   "execution_count": 17,
   "metadata": {},
   "outputs": [
    {
     "name": "stdout",
     "output_type": "stream",
     "text": [
      "0\n",
      "1\n",
      "2\n"
     ]
    }
   ],
   "source": [
    "for i in mygenerator:\n",
    "    print(i)"
   ]
  },
  {
   "cell_type": "markdown",
   "metadata": {},
   "source": [
    "### Decorators"
   ]
  },
  {
   "cell_type": "code",
   "execution_count": 29,
   "metadata": {},
   "outputs": [
    {
     "name": "stdout",
     "output_type": "stream",
     "text": [
      "In decorator....\n",
      "returning wrapper\n",
      "say whee\n",
      "('AEN4', 'kostal')\n",
      "Something is happening before the function is called.\n",
      "AEN4 kostal\n",
      "Whee!\n",
      "Something is happening after the function is called.\n"
     ]
    }
   ],
   "source": [
    "def my_decorator(func):\n",
    "    print('In decorator....')\n",
    "    def wrapper(*args):\n",
    "        print(args)\n",
    "        print(\"Something is happening before the function is called.\")\n",
    "        func(*args)\n",
    "        print(\"Something is happening after the function is called.\")\n",
    "    print('returning wrapper')\n",
    "    return wrapper\n",
    "\n",
    "@my_decorator\n",
    "def say_whee(*name):\n",
    "    print(*name)\n",
    "    print(\"Whee!\")\n",
    "\n",
    "print('say whee')\n",
    "say_whee('AEN4','kostal')"
   ]
  }
 ],
 "metadata": {
  "kernelspec": {
   "display_name": "Python 3",
   "language": "python",
   "name": "python3"
  },
  "language_info": {
   "codemirror_mode": {
    "name": "ipython",
    "version": 3
   },
   "file_extension": ".py",
   "mimetype": "text/x-python",
   "name": "python",
   "nbconvert_exporter": "python",
   "pygments_lexer": "ipython3",
   "version": "3.6.1"
  }
 },
 "nbformat": 4,
 "nbformat_minor": 2
}
