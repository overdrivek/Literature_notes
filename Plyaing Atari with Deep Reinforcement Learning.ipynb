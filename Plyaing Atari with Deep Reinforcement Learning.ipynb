{
 "cells": [
  {
   "cell_type": "markdown",
   "metadata": {},
   "source": [
    "### Deep Reinforcement Learning\n",
    "\"Playing Atari with Deep Reinforcement Learning\" is a breakthrough paper from DeepMind Technologies where a convolution neural network was modeled by training with a variang of Q-learning (Reinforcement Learning Technique). The model is used to learn Atari 2600 games using only input image or screenshot of the game in pixels to output a valud function estimating future rewards. The authors show that their Deep Q-Learning model (DQN) outperforms previous approaches of RL to learn Atari 2600 games on six of the seven games and even performs better than a human expert on three such games. "
   ]
  },
  {
   "cell_type": "markdown",
   "metadata": {},
   "source": [
    "#### Definitions\n",
    "\n",
    "* **Agent**: An agent is the machine which takes actions. A robot move to pick up an object or a drone making a delivery etc. \n",
    "* **Action (A)**: A is the set of all possible actions the agent can make at a given state $s$. \n",
    "* **Discount factor** : The discount factor is multiplied by future rewards as discovered by agents in order to dampen these rewards effect on the current agents selection of action, \n",
    "* **Environment**: The world where the agent moves. \n",
    "* **State (S)** : The definition of the situation where the agent finds itself in the environment. \n",
    "* **Reward (R)**: Feedback acquired by observing the environment after the agent has performed an action. This indicates if the agents action were a success or a failure. Depending on the problem, rewards can be immediate or delayed. \n",
    "* **Policy ($\\Pi$)**: Policy is the strategy the agent employs to move in the environment with action $a$ and transition to the next state $s'$ from its current state $s$. \n",
    "* **Value (V)**: The expected long-term return with discount. $V_\\Pi(s)$ is defined as the expected long-term return of the current state under the policy $\\Pi$. \n",
    "* **Q-Value or Action-Value (Q)**: Q-value is similar to value in that it also considers the action $a$. $Q_\\Pi(s,a)$ refers to the long-term return of the current state $s$, taking action $a$ under policy $\\Pi$. Q maps state-action pairs to rewards. \n",
    "\n"
   ]
  }
 ],
 "metadata": {
  "kernelspec": {
   "display_name": "Python 3",
   "language": "python",
   "name": "python3"
  },
  "language_info": {
   "codemirror_mode": {
    "name": "ipython",
    "version": 3
   },
   "file_extension": ".py",
   "mimetype": "text/x-python",
   "name": "python",
   "nbconvert_exporter": "python",
   "pygments_lexer": "ipython3",
   "version": "3.6.1"
  }
 },
 "nbformat": 4,
 "nbformat_minor": 2
}
